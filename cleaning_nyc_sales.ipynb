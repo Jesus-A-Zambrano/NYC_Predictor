{
  "cells": [
    {
      "cell_type": "code",
      "execution_count": 1,
      "metadata": {
        "id": "R6WSY5DUxAIP"
      },
      "outputs": [],
      "source": [
        "import pandas as pd\n",
        "import numpy as np"
      ]
    },
    {
      "cell_type": "code",
      "execution_count": 2,
      "metadata": {
        "colab": {
          "base_uri": "https://localhost:8080/"
        },
        "id": "3nRMMRCgukdX",
        "outputId": "b712ce62-8765-4dff-e5d0-067acdc379b9"
      },
      "outputs": [
        {
          "name": "stderr",
          "output_type": "stream",
          "text": [
            "C:\\Users\\Usuario\\AppData\\Local\\Temp\\ipykernel_3012\\1933697466.py:4: FutureWarning: Downcasting behavior in `replace` is deprecated and will be removed in a future version. To retain the old behavior, explicitly call `result.infer_objects(copy=False)`. To opt-in to the future behavior, set `pd.set_option('future.no_silent_downcasting', True)`\n",
            "  df = df.replace('-', '', regex=True)\n"
          ]
        },
        {
          "data": {
            "text/plain": [
              "(84548, 22)"
            ]
          },
          "execution_count": 2,
          "metadata": {},
          "output_type": "execute_result"
        }
      ],
      "source": [
        "#       - Importación -\n",
        "\n",
        "df = pd.read_csv('nyc-rolling-sales-cured.csv', dtype=str)\n",
        "df = df.replace('-', '', regex=True)\n",
        "df.columns = df.columns.str.replace(' ', '_')\n",
        "df.shape"
      ]
    },
    {
      "cell_type": "code",
      "execution_count": 3,
      "metadata": {
        "colab": {
          "base_uri": "https://localhost:8080/"
        },
        "id": "kLw2jlCXofwp",
        "outputId": "9f45fa45-263c-4f73-9c9f-f0fe8fd7952a"
      },
      "outputs": [
        {
          "name": "stdout",
          "output_type": "stream",
          "text": [
            "Index(['Unnamed:_0', 'BOROUGH', 'NEIGHBORHOOD', 'BUILDING_CLASS_CATEGORY',\n",
            "       'TAX_CLASS_AT_PRESENT', 'BLOCK', 'LOT', 'EASE-MENT',\n",
            "       'BUILDING_CLASS_AT_PRESENT', 'ADDRESS', 'APARTMENT_NUMBER', 'ZIP_CODE',\n",
            "       'RESIDENTIAL_UNITS', 'COMMERCIAL_UNITS', 'TOTAL_UNITS',\n",
            "       'LAND_SQUARE_FEET', 'GROSS_SQUARE_FEET', 'YEAR_BUILT',\n",
            "       'TAX_CLASS_AT_TIME_OF_SALE', 'BUILDING_CLASS_AT_TIME_OF_SALE',\n",
            "       'SALE_PRICE', 'SALE_DATE'],\n",
            "      dtype='object')\n"
          ]
        }
      ],
      "source": [
        "#       - Formato -\n",
        "\n",
        "convert_types = {\n",
        "    'Unnamed:_0': 'str',\n",
        "    'BOROUGH': 'int',\n",
        "    'NEIGHBORHOOD': 'str',\n",
        "    'BUILDING_CLASS_CATEGORY': 'str',\n",
        "    'TAX_CLASS_AT_PRESENT': 'category',\n",
        "    'BLOCK': 'int',\n",
        "    'LOT': 'int',\n",
        "    'EASE-MENT': 'str',\n",
        "    'BUILDING_CLASS_AT_PRESENT': 'category',\n",
        "    'ADDRESS': 'str',\n",
        "    'APARTMENT_NUMBER': 'str',\n",
        "    'ZIP_CODE': 'int',\n",
        "    'RESIDENTIAL_UNITS': 'int',\n",
        "    'COMMERCIAL_UNITS': 'int',\n",
        "    'TOTAL_UNITS': 'int',\n",
        "    'LAND_SQUARE_FEET': 'int',\n",
        "    'GROSS_SQUARE_FEET': 'int',\n",
        "    'YEAR_BUILT': 'int',\n",
        "    'TAX_CLASS_AT_TIME_OF_SALE': 'category',\n",
        "    'BUILDING_CLASS_AT_TIME_OF_SALE': 'category',\n",
        "    'SALE_PRICE': 'float',\n",
        "    'SALE_DATE': 'datetime64[ns]'\n",
        "}\n",
        "\n",
        "for col, dtype in convert_types.items():\n",
        "    if col not in df.columns:\n",
        "        continue\n",
        "    if dtype == 'datetime64[ns]':\n",
        "        df[col] = pd.to_datetime(df[col], errors='coerce')\n",
        "    elif dtype in ['int', 'float']:\n",
        "        df[col] = pd.to_numeric(df[col], errors='coerce')\n",
        "    else:\n",
        "        df[col] = df[col].astype(dtype)\n",
        "\n",
        "print(df.columns)"
      ]
    },
    {
      "cell_type": "code",
      "execution_count": 4,
      "metadata": {
        "colab": {
          "base_uri": "https://localhost:8080/"
        },
        "id": "QuUShd9aLZSC",
        "outputId": "7b44ddcf-eba6-493b-8f75-a13e008cd532"
      },
      "outputs": [
        {
          "data": {
            "text/plain": [
              "(84548, 22)"
            ]
          },
          "execution_count": 4,
          "metadata": {},
          "output_type": "execute_result"
        }
      ],
      "source": [
        "#       - Filtro -\n",
        "df['SALE_PRICE'] = pd.to_numeric(df['SALE_PRICE'], errors='coerce')\n",
        "df.shape"
      ]
    },
    {
      "cell_type": "code",
      "execution_count": 5,
      "metadata": {
        "colab": {
          "base_uri": "https://localhost:8080/"
        },
        "id": "teGhobH25OAI",
        "outputId": "fbe84df0-ae6f-4faa-89b4-6aa26979c72a"
      },
      "outputs": [
        {
          "name": "stdout",
          "output_type": "stream",
          "text": [
            "Index(['BOROUGH', 'BLOCK', 'LOT', 'ZIP_CODE', 'RESIDENTIAL_UNITS',\n",
            "       'GROSS_SQUARE_FEET', 'YEAR_BUILT', 'TAX_CLASS_AT_TIME_OF_SALE',\n",
            "       'BUILDING_CLASS_AT_TIME_OF_SALE', 'SALE_PRICE', 'SALE_DATE'],\n",
            "      dtype='object')\n"
          ]
        },
        {
          "data": {
            "text/plain": [
              "(56008, 11)"
            ]
          },
          "execution_count": 5,
          "metadata": {},
          "output_type": "execute_result"
        }
      ],
      "source": [
        "#       - Limpieza -\n",
        "df = df[df['SALE_PRICE'] > 10000]\n",
        "df = df[~((df['RESIDENTIAL_UNITS'] > 3))]\n",
        "df = df[~((df['COMMERCIAL_UNITS'] > 3))]\n",
        "df_ready = df.drop(['Unnamed:_0','NEIGHBORHOOD','BUILDING_CLASS_CATEGORY','TAX_CLASS_AT_PRESENT','EASE-MENT','BUILDING_CLASS_AT_PRESENT', \n",
        "                    'ADDRESS','APARTMENT_NUMBER','COMMERCIAL_UNITS','TOTAL_UNITS','LAND_SQUARE_FEET'],axis='columns')\n",
        "\n",
        "print(df_ready.columns)\n",
        "df_ready.shape"
      ]
    },
    {
      "cell_type": "code",
      "execution_count": 6,
      "metadata": {
        "id": "Sj7o8yrpzjoX"
      },
      "outputs": [
        {
          "name": "stderr",
          "output_type": "stream",
          "text": [
            "C:\\Users\\Usuario\\AppData\\Local\\Temp\\ipykernel_3012\\1805719715.py:11: FutureWarning: The default of observed=False is deprecated and will be changed to True in a future version of pandas. Pass observed=False to retain current behavior or observed=True to adopt the future default and silence this warning.\n",
            "  imputation = df_ready.groupby('BUILDING_CLASS_AT_TIME_OF_SALE')['GROSS_SQUARE_FEET'].transform('median')\n"
          ]
        }
      ],
      "source": [
        "#       - Depuración de GROSS_SQUARE_FEET -\n",
        "\n",
        "df_ready['GROSS_SQUARE_FEET'] = df_ready['GROSS_SQUARE_FEET'].astype(str).str.replace(',', '').str.strip()\n",
        "df_ready['GROSS_SQUARE_FEET'] = df_ready['GROSS_SQUARE_FEET'].replace(['', '-', '0'], np.nan)\n",
        "df_ready['GROSS_SQUARE_FEET'] = pd.to_numeric(df_ready['GROSS_SQUARE_FEET'], errors='coerce')\n",
        "df_ready['GROSS_SQUARE_FEET'] = df_ready['GROSS_SQUARE_FEET'].replace(0, np.nan)\n",
        "\n",
        "#       - Imputación de GROSS_SQUARE_FEET -\n",
        "\n",
        "missing_data = df_ready['GROSS_SQUARE_FEET'].isna()\n",
        "imputation = df_ready.groupby('BUILDING_CLASS_AT_TIME_OF_SALE')['GROSS_SQUARE_FEET'].transform('median')\n",
        "df_ready.loc[missing_data, 'GROSS_SQUARE_FEET'] = df_ready.loc[missing_data, 'GROSS_SQUARE_FEET'].fillna(imputation)\n",
        "median_global = df_ready['GROSS_SQUARE_FEET'].median()\n",
        "\n",
        "df_ready.loc[missing_data, 'GROSS_SQUARE_FEET'] = median_global"
      ]
    },
    {
      "cell_type": "code",
      "execution_count": 11,
      "metadata": {},
      "outputs": [
        {
          "data": {
            "text/plain": [
              "(53956, 11)"
            ]
          },
          "execution_count": 11,
          "metadata": {},
          "output_type": "execute_result"
        }
      ],
      "source": [
        "#       - Limpieza BUILDING_CLASS_AT_TIME_OF_SALE -\n",
        "\n",
        "with open(\"eliminacion_clases.txt\", \"r\") as archivo:\n",
        "    lista = [linea.rstrip('\\n') for linea in archivo]\n",
        "\n",
        "df_ready = df_ready[~df_ready.BUILDING_CLASS_AT_TIME_OF_SALE.isin(lista)]\n",
        "df_ready.shape"
      ]
    },
    {
      "cell_type": "code",
      "execution_count": 8,
      "metadata": {
        "colab": {
          "base_uri": "https://localhost:8080/"
        },
        "id": "3ILQHzXVzREN",
        "outputId": "90615c37-bece-49be-f85a-24b5f042c0c7"
      },
      "outputs": [
        {
          "data": {
            "text/plain": [
              "(53956, 11)"
            ]
          },
          "execution_count": 8,
          "metadata": {},
          "output_type": "execute_result"
        }
      ],
      "source": [
        "#       - Filtro GROSS_SQUARE_FEET final-\n",
        "\n",
        "df_ready = df_ready[df_ready['GROSS_SQUARE_FEET'] > 0]\n",
        "df_ready.shape"
      ]
    },
    {
      "cell_type": "code",
      "execution_count": 9,
      "metadata": {
        "id": "0IeGJMkt0wvP"
      },
      "outputs": [],
      "source": [
        "#       - Exportación -\n",
        "df_ready.to_csv('resultado_NYC.csv', index=False, encoding='utf-8', float_format='%.2f')"
      ]
    }
  ],
  "metadata": {
    "colab": {
      "provenance": []
    },
    "kernelspec": {
      "display_name": "base",
      "language": "python",
      "name": "python3"
    },
    "language_info": {
      "codemirror_mode": {
        "name": "ipython",
        "version": 3
      },
      "file_extension": ".py",
      "mimetype": "text/x-python",
      "name": "python",
      "nbconvert_exporter": "python",
      "pygments_lexer": "ipython3",
      "version": "3.12.7"
    }
  },
  "nbformat": 4,
  "nbformat_minor": 0
}
